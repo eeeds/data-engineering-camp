{
 "cells": [
  {
   "cell_type": "code",
   "execution_count": null,
   "metadata": {},
   "outputs": [],
   "source": []
  }
 ],
 "metadata": {
  "kernelspec": {
   "display_name": "data_engineering_camp",
   "language": "python",
   "name": "python3"
  },
  "language_info": {
   "name": "python",
   "version": "3.9.16"
  },
  "orig_nbformat": 4,
  "vscode": {
   "interpreter": {
    "hash": "749097b5fbff0d673bb0497b73cd40972c75738d419b32e5f0e531e852e89aab"
   }
  }
 },
 "nbformat": 4,
 "nbformat_minor": 2
}
