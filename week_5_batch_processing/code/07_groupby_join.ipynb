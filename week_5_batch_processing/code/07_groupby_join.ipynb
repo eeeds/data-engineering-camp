{
 "cells": [
  {
   "cell_type": "code",
   "execution_count": 1,
   "metadata": {},
   "outputs": [],
   "source": [
    "import pyspark\n",
    "from pyspark.sql import SparkSession"
   ]
  },
  {
   "cell_type": "code",
   "execution_count": 2,
   "metadata": {},
   "outputs": [],
   "source": [
    "spark = SparkSession.builder \\\n",
    "    .master(\"local[*]\") \\\n",
    "    .appName('test') \\\n",
    "    .getOrCreate()"
   ]
  },
  {
   "cell_type": "code",
   "execution_count": 3,
   "metadata": {},
   "outputs": [],
   "source": [
    "df_green = spark.read.parquet('data/pq/green/*/*')"
   ]
  },
  {
   "cell_type": "code",
   "execution_count": 4,
   "metadata": {},
   "outputs": [
    {
     "name": "stderr",
     "output_type": "stream",
     "text": [
      "c:\\Users\\User\\anaconda3\\envs\\data_engineering_camp\\lib\\site-packages\\pyspark\\sql\\dataframe.py:229: FutureWarning: Deprecated in 2.0, use createOrReplaceTempView instead.\n",
      "  warnings.warn(\"Deprecated in 2.0, use createOrReplaceTempView instead.\", FutureWarning)\n"
     ]
    }
   ],
   "source": [
    "df_green.registerTempTable('green')"
   ]
  },
  {
   "cell_type": "code",
   "execution_count": 5,
   "metadata": {},
   "outputs": [],
   "source": [
    "df_green_revenue = spark.sql(\"\"\"\n",
    "SELECT \n",
    "    date_trunc('hour', lpep_pickup_datetime) AS hour, \n",
    "    PULocationID AS zone,\n",
    "\n",
    "    SUM(total_amount) AS amount,\n",
    "    COUNT(1) AS number_records\n",
    "FROM\n",
    "    green\n",
    "WHERE\n",
    "    lpep_pickup_datetime >= '2020-01-01 00:00:00'\n",
    "GROUP BY\n",
    "    1, 2\n",
    "\"\"\")"
   ]
  },
  {
   "cell_type": "code",
   "execution_count": 6,
   "metadata": {},
   "outputs": [
    {
     "name": "stdout",
     "output_type": "stream",
     "text": [
      "+-------------------+----+------------------+--------------+\n",
      "|               hour|zone|            amount|number_records|\n",
      "+-------------------+----+------------------+--------------+\n",
      "|2020-01-27 08:00:00|  91|123.88999999999999|             3|\n",
      "|2020-01-03 13:00:00|  85|             38.55|             2|\n",
      "|2020-01-08 22:00:00| 223|            144.58|            10|\n",
      "|2020-01-06 09:00:00|  92|            183.34|             8|\n",
      "|2020-01-17 21:00:00| 260|265.19000000000005|            22|\n",
      "|2020-01-11 14:00:00| 243|178.79000000000002|             7|\n",
      "|2020-01-19 16:00:00|  82| 611.6699999999998|            53|\n",
      "|2020-01-27 10:00:00| 244|482.82000000000016|            22|\n",
      "|2020-01-03 09:00:00|  74|1036.3099999999993|            87|\n",
      "|2020-01-20 17:00:00| 166| 515.9300000000002|            33|\n",
      "|2020-01-02 10:00:00|  74| 759.6499999999995|            65|\n",
      "|2020-01-22 07:00:00| 223|            115.16|             5|\n",
      "|2020-01-26 09:00:00|  35|            156.63|             5|\n",
      "|2020-01-22 07:00:00|  74| 1047.089999999999|            73|\n",
      "|2020-01-07 21:00:00| 181|305.81000000000006|            18|\n",
      "|2020-01-22 20:00:00| 152|             66.48|             4|\n",
      "|2020-01-04 21:00:00| 244|239.80000000000007|            14|\n",
      "|2020-01-17 01:00:00|  41|             90.75|             7|\n",
      "|2020-01-11 15:00:00|  41| 937.2299999999994|            61|\n",
      "|2020-01-02 08:00:00|  26|244.11999999999998|             8|\n",
      "+-------------------+----+------------------+--------------+\n",
      "only showing top 20 rows\n",
      "\n"
     ]
    }
   ],
   "source": [
    "df_green_revenue.show()"
   ]
  },
  {
   "cell_type": "code",
   "execution_count": 7,
   "metadata": {},
   "outputs": [],
   "source": [
    "df_green_revenue \\\n",
    "    .repartition(20) \\\n",
    "    .write.parquet('data/report/revenue/green', mode='overwrite')"
   ]
  },
  {
   "attachments": {},
   "cell_type": "markdown",
   "metadata": {},
   "source": [
    "### Each partition has a result. After each \"intermediate result\" we have a \"reshuffling\" where the data is combined into one.\n",
    "\n",
    "![images](../images/groupby.PNG)"
   ]
  },
  {
   "cell_type": "code",
   "execution_count": 8,
   "metadata": {},
   "outputs": [
    {
     "name": "stderr",
     "output_type": "stream",
     "text": [
      "c:\\Users\\User\\anaconda3\\envs\\data_engineering_camp\\lib\\site-packages\\pyspark\\sql\\dataframe.py:229: FutureWarning: Deprecated in 2.0, use createOrReplaceTempView instead.\n",
      "  warnings.warn(\"Deprecated in 2.0, use createOrReplaceTempView instead.\", FutureWarning)\n"
     ]
    }
   ],
   "source": [
    "df_yellow = spark.read.parquet('data/pq/yellow/*/*')\n",
    "df_yellow.registerTempTable('yellow')"
   ]
  },
  {
   "cell_type": "code",
   "execution_count": 9,
   "metadata": {},
   "outputs": [],
   "source": [
    "df_yellow_revenue = spark.sql(\"\"\"\n",
    "SELECT \n",
    "    date_trunc('hour', tpep_pickup_datetime) AS hour, \n",
    "    PULocationID AS zone,\n",
    "\n",
    "    SUM(total_amount) AS amount,\n",
    "    COUNT(1) AS number_records\n",
    "FROM\n",
    "    yellow\n",
    "WHERE\n",
    "    tpep_pickup_datetime >= '2020-01-01 00:00:00'\n",
    "GROUP BY\n",
    "    1, 2\n",
    "\"\"\")"
   ]
  },
  {
   "cell_type": "code",
   "execution_count": 10,
   "metadata": {},
   "outputs": [
    {
     "name": "stdout",
     "output_type": "stream",
     "text": [
      "+-------------------+----+------------------+--------------+\n",
      "|               hour|zone|            amount|number_records|\n",
      "+-------------------+----+------------------+--------------+\n",
      "|2020-01-03 23:00:00|  48|  8532.85000000002|           497|\n",
      "|2020-01-23 19:00:00| 162|14219.900000000043|           792|\n",
      "|2020-01-31 14:00:00| 237|11852.900000000041|           825|\n",
      "|2020-01-23 14:00:00| 137|2787.6499999999987|           160|\n",
      "|2020-01-01 15:00:00|  68|3559.2099999999973|           216|\n",
      "|2020-01-01 00:00:00| 170| 8266.010000000015|           463|\n",
      "|2020-01-04 00:00:00| 229|1935.0099999999989|           109|\n",
      "|2020-01-23 11:00:00| 113|2094.4799999999987|           144|\n",
      "|2020-01-23 11:00:00| 142| 4758.379999999999|           325|\n",
      "|2020-01-11 11:00:00| 125| 787.6900000000003|            56|\n",
      "|2020-01-22 07:00:00|  74|           1092.06|            82|\n",
      "|2020-01-17 10:00:00| 170|  6841.69000000001|           418|\n",
      "|2020-01-04 20:00:00| 161| 5983.240000000008|           373|\n",
      "|2020-01-22 23:00:00|  79|3617.8099999999968|           215|\n",
      "|2020-01-16 19:00:00| 100| 4564.379999999998|           268|\n",
      "|2020-01-09 12:00:00| 263| 3024.739999999997|           216|\n",
      "|2020-01-15 15:00:00| 239| 5217.580000000002|           344|\n",
      "|2020-01-03 23:00:00|  79| 7334.810000000013|           445|\n",
      "|2020-01-23 16:00:00| 164| 5907.700000000004|           316|\n",
      "|2020-01-11 20:00:00| 236|5204.6600000000035|           348|\n",
      "+-------------------+----+------------------+--------------+\n",
      "only showing top 20 rows\n",
      "\n"
     ]
    }
   ],
   "source": [
    "df_yellow_revenue.show()"
   ]
  },
  {
   "cell_type": "code",
   "execution_count": 11,
   "metadata": {},
   "outputs": [],
   "source": [
    "df_yellow_revenue \\\n",
    "    .repartition(20) \\\n",
    "    .write.parquet('data/report/revenue/yellow', mode='overwrite')"
   ]
  },
  {
   "cell_type": "markdown",
   "metadata": {},
   "source": [
    "## Joining part"
   ]
  },
  {
   "cell_type": "code",
   "execution_count": 12,
   "metadata": {},
   "outputs": [],
   "source": [
    "df_green_revenue = spark.read.parquet('data/report/revenue/green')\n",
    "df_yellow_revenue = spark.read.parquet('data/report/revenue/yellow')"
   ]
  },
  {
   "cell_type": "code",
   "execution_count": 13,
   "metadata": {},
   "outputs": [],
   "source": [
    "df_green_revenue_tmp = df_green_revenue \\\n",
    "    .withColumnRenamed('amount', 'green_amount') \\\n",
    "    .withColumnRenamed('number_records', 'green_number_records')\n",
    "\n",
    "df_yellow_revenue_tmp = df_yellow_revenue \\\n",
    "    .withColumnRenamed('amount', 'yellow_amount') \\\n",
    "    .withColumnRenamed('number_records', 'yellow_number_records')"
   ]
  },
  {
   "cell_type": "code",
   "execution_count": 14,
   "metadata": {},
   "outputs": [],
   "source": [
    "df_join = df_green_revenue_tmp.join(df_yellow_revenue_tmp, on=['hour', 'zone'], how='outer')"
   ]
  },
  {
   "cell_type": "code",
   "execution_count": 15,
   "metadata": {},
   "outputs": [
    {
     "name": "stdout",
     "output_type": "stream",
     "text": [
      "+-------------------+----+------------------+--------------------+------------------+---------------------+\n",
      "|               hour|zone|      green_amount|green_number_records|     yellow_amount|yellow_number_records|\n",
      "+-------------------+----+------------------+--------------------+------------------+---------------------+\n",
      "|2020-01-01 00:00:00|  10|              null|                null|             42.41|                    2|\n",
      "|2020-01-01 00:00:00|  15|              null|                null|             34.09|                    1|\n",
      "|2020-01-01 00:00:00|  24|              87.6|                   3| 754.9500000000003|                   45|\n",
      "|2020-01-01 00:00:00|  32| 68.94999999999999|                   2|              18.0|                    1|\n",
      "|2020-01-01 00:00:00|  42| 799.7599999999998|                  52| 635.3500000000003|                   46|\n",
      "|2020-01-01 00:00:00|  55|129.29000000000002|                   4|              null|                 null|\n",
      "|2020-01-01 00:00:00|  77| 75.99000000000001|                   2|            134.24|                    3|\n",
      "|2020-01-01 00:00:00|  80|            364.32|                  13|371.40000000000003|                   20|\n",
      "|2020-01-01 00:00:00|  87|              null|                null|2456.6699999999987|                  112|\n",
      "|2020-01-01 00:00:00|  89|              11.3|                   1|             48.16|                    2|\n",
      "|2020-01-01 00:00:00| 140|              null|                null| 2268.909999999998|                  138|\n",
      "|2020-01-01 00:00:00| 146|             99.37|                   6|            110.74|                    7|\n",
      "|2020-01-01 00:00:00| 152|             58.52|                   6|251.72999999999996|                   16|\n",
      "|2020-01-01 00:00:00| 162|              null|                null| 4622.289999999999|                  268|\n",
      "|2020-01-01 00:00:00| 170|              null|                null| 8266.010000000015|                  463|\n",
      "|2020-01-01 00:00:00| 213|             46.12|                   1|              71.3|                    2|\n",
      "|2020-01-01 00:00:00| 259|            131.24|                   7|              null|                 null|\n",
      "|2020-01-01 00:00:00| 262|              null|                null|2239.5199999999986|                  149|\n",
      "|2020-01-01 01:00:00|   4|              null|                null| 2288.699999999999|                  114|\n",
      "|2020-01-01 01:00:00|  10| 95.47999999999999|                   2|             57.67|                    1|\n",
      "+-------------------+----+------------------+--------------------+------------------+---------------------+\n",
      "only showing top 20 rows\n",
      "\n"
     ]
    }
   ],
   "source": [
    "df_join.show()"
   ]
  },
  {
   "cell_type": "code",
   "execution_count": 16,
   "metadata": {},
   "outputs": [],
   "source": [
    "df_join.write.parquet('data/report/revenue/total', mode='overwrite')"
   ]
  },
  {
   "cell_type": "code",
   "execution_count": 17,
   "metadata": {},
   "outputs": [],
   "source": [
    "df_join = spark.read.parquet('data/report/revenue/total')"
   ]
  },
  {
   "cell_type": "code",
   "execution_count": 18,
   "metadata": {},
   "outputs": [
    {
     "data": {
      "text/plain": [
       "DataFrame[hour: timestamp, zone: int, green_amount: double, green_number_records: bigint, yellow_amount: double, yellow_number_records: bigint]"
      ]
     },
     "execution_count": 18,
     "metadata": {},
     "output_type": "execute_result"
    }
   ],
   "source": [
    "df_join"
   ]
  },
  {
   "cell_type": "code",
   "execution_count": 19,
   "metadata": {},
   "outputs": [],
   "source": [
    "df_zones = spark.read.parquet('zones/')"
   ]
  },
  {
   "cell_type": "code",
   "execution_count": 20,
   "metadata": {},
   "outputs": [],
   "source": [
    "df_result = df_join.join(df_zones, df_join.zone == df_zones.LocationID)"
   ]
  },
  {
   "cell_type": "code",
   "execution_count": 22,
   "metadata": {},
   "outputs": [],
   "source": [
    "df_result.drop('LocationID', 'zone').write.parquet('tmp/revenue-zones')\n"
   ]
  },
  {
   "cell_type": "code",
   "execution_count": 23,
   "metadata": {},
   "outputs": [
    {
     "name": "stdout",
     "output_type": "stream",
     "text": [
      "+-------------------+----+------------------+--------------------+------------------+---------------------+----------+---------+--------------------+------------+\n",
      "|               hour|zone|      green_amount|green_number_records|     yellow_amount|yellow_number_records|LocationID|  Borough|                Zone|service_zone|\n",
      "+-------------------+----+------------------+--------------------+------------------+---------------------+----------+---------+--------------------+------------+\n",
      "|2020-01-01 00:00:00|   4|              null|                null|1004.3000000000003|                   57|         4|Manhattan|       Alphabet City| Yellow Zone|\n",
      "|2020-01-01 00:00:00|  13|              null|                null|            1214.8|                   56|        13|Manhattan|   Battery Park City| Yellow Zone|\n",
      "|2020-01-01 00:00:00|  45|              null|                null| 732.4800000000002|                   42|        45|Manhattan|           Chinatown| Yellow Zone|\n",
      "|2020-01-01 00:00:00|  59|50.900000000000006|                   3|              null|                 null|        59|    Bronx|        Crotona Park|   Boro Zone|\n",
      "|2020-01-01 00:00:00|  63|              51.9|                   2|              70.8|                    1|        63| Brooklyn|       Cypress Hills|   Boro Zone|\n",
      "|2020-01-01 00:00:00|  71|              23.8|                   1|              null|                 null|        71| Brooklyn|East Flatbush/Far...|   Boro Zone|\n",
      "|2020-01-01 00:00:00|  78|             34.46|                   2|              null|                 null|        78|    Bronx|        East Tremont|   Boro Zone|\n",
      "|2020-01-01 00:00:00|  79|              null|                null|12573.810000000029|                  721|        79|Manhattan|        East Village| Yellow Zone|\n",
      "|2020-01-01 00:00:00|  83|              94.1|                   7|               9.8|                    1|        83|   Queens|    Elmhurst/Maspeth|   Boro Zone|\n",
      "|2020-01-01 00:00:00| 107|              null|                null| 6441.030000000004|                  380|       107|Manhattan|            Gramercy| Yellow Zone|\n",
      "|2020-01-01 00:00:00| 108|              null|                null|              18.8|                    1|       108| Brooklyn|           Gravesend|   Boro Zone|\n",
      "|2020-01-01 00:00:00| 119| 67.77000000000001|                   4|              47.3|                    2|       119|    Bronx|          Highbridge|   Boro Zone|\n",
      "|2020-01-01 00:00:00| 135|              null|                null|              18.3|                    1|       135|   Queens|   Kew Gardens Hills|   Boro Zone|\n",
      "|2020-01-01 00:00:00| 145|             65.14|                   4|            365.87|                   18|       145|   Queens|Long Island City/...|   Boro Zone|\n",
      "|2020-01-01 00:00:00| 165|             66.14|                   2|              null|                 null|       165| Brooklyn|             Midwood|   Boro Zone|\n",
      "|2020-01-01 00:00:00| 179|             87.32|                   5|            213.29|                   10|       179|   Queens|         Old Astoria|   Boro Zone|\n",
      "|2020-01-01 00:00:00| 189|            102.75|                   7|            126.01|                   10|       189| Brooklyn|    Prospect Heights|   Boro Zone|\n",
      "|2020-01-01 00:00:00| 194|              null|                null|            148.71|                    2|       194|Manhattan|     Randalls Island| Yellow Zone|\n",
      "|2020-01-01 00:00:00| 208|             80.24|                   3|              null|                 null|       208|    Bronx|Schuylerville/Edg...|   Boro Zone|\n",
      "|2020-01-01 00:00:00| 210|              18.1|                   2|              null|                 null|       210| Brooklyn|      Sheepshead Bay|   Boro Zone|\n",
      "+-------------------+----+------------------+--------------------+------------------+---------------------+----------+---------+--------------------+------------+\n",
      "only showing top 20 rows\n",
      "\n"
     ]
    }
   ],
   "source": [
    "df_result.show()"
   ]
  },
  {
   "cell_type": "code",
   "execution_count": null,
   "metadata": {},
   "outputs": [],
   "source": []
  }
 ],
 "metadata": {
  "kernelspec": {
   "display_name": "data_engineering_camp",
   "language": "python",
   "name": "python3"
  },
  "language_info": {
   "codemirror_mode": {
    "name": "ipython",
    "version": 3
   },
   "file_extension": ".py",
   "mimetype": "text/x-python",
   "name": "python",
   "nbconvert_exporter": "python",
   "pygments_lexer": "ipython3",
   "version": "3.9.16"
  },
  "orig_nbformat": 4,
  "vscode": {
   "interpreter": {
    "hash": "749097b5fbff0d673bb0497b73cd40972c75738d419b32e5f0e531e852e89aab"
   }
  }
 },
 "nbformat": 4,
 "nbformat_minor": 2
}
