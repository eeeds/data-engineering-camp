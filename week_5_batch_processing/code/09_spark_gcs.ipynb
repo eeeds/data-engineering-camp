{
 "cells": [
  {
   "cell_type": "code",
   "execution_count": 1,
   "metadata": {},
   "outputs": [],
   "source": [
    "import pyspark\n",
    "from pyspark.sql import SparkSession\n",
    "from pyspark.conf import SparkConf\n",
    "from pyspark.context import SparkContext"
   ]
  },
  {
   "cell_type": "code",
   "execution_count": 2,
   "metadata": {},
   "outputs": [],
   "source": [
    "credentials_location = r'C:\\Users\\User\\Desktop\\Github\\data-engineering-camp\\week_1_basics_n_setup\\extreme-surge-375913-ea78ab486185.json'"
   ]
  },
  {
   "cell_type": "code",
   "execution_count": 3,
   "metadata": {},
   "outputs": [],
   "source": [
    "conf = SparkConf() \\\n",
    "    .setMaster('local[*]') \\\n",
    "    .setAppName('test') \\\n",
    "    .set(\"spark.jars\", \"./data/lib/gcs-connector-hadoop3-2.2.5.jar\") \\\n",
    "    .set(\"spark.hadoop.google.cloud.auth.service.account.enable\", \"true\") \\\n",
    "    .set(\"spark.hadoop.google.cloud.auth.service.account.json.keyfile\", credentials_location)"
   ]
  },
  {
   "cell_type": "code",
   "execution_count": 4,
   "metadata": {},
   "outputs": [],
   "source": [
    "sc = SparkContext(conf=conf)\n",
    "\n",
    "hadoop_conf = sc._jsc.hadoopConfiguration()\n",
    "\n",
    "hadoop_conf.set(\"fs.AbstractFileSystem.gs.impl\",  \"com.google.cloud.hadoop.fs.gcs.GoogleHadoopFS\")\n",
    "hadoop_conf.set(\"fs.gs.impl\", \"com.google.cloud.hadoop.fs.gcs.GoogleHadoopFileSystem\")\n",
    "hadoop_conf.set(\"fs.gs.auth.service.account.json.keyfile\", credentials_location)\n",
    "hadoop_conf.set(\"fs.gs.auth.service.account.enable\", \"true\")"
   ]
  },
  {
   "cell_type": "code",
   "execution_count": 5,
   "metadata": {},
   "outputs": [],
   "source": [
    "spark = SparkSession.builder \\\n",
    "    .config(conf=sc.getConf()) \\\n",
    "    .getOrCreate()"
   ]
  },
  {
   "cell_type": "code",
   "execution_count": 8,
   "metadata": {},
   "outputs": [],
   "source": [
    "df_green = spark.read.parquet('gs://dtc_data_lake_extreme-surge-375913/pq/code/data/pq/green/*/*')"
   ]
  },
  {
   "cell_type": "code",
   "execution_count": 9,
   "metadata": {},
   "outputs": [
    {
     "name": "stdout",
     "output_type": "stream",
     "text": [
      "+--------+--------------------+---------------------+------------------+----------+------------+------------+---------------+-------------+-----------+-----+-------+----------+------------+---------+---------------------+------------+------------+---------+--------------------+\n",
      "|VendorID|lpep_pickup_datetime|lpep_dropoff_datetime|store_and_fwd_flag|RatecodeID|PULocationID|DOLocationID|passenger_count|trip_distance|fare_amount|extra|mta_tax|tip_amount|tolls_amount|ehail_fee|improvement_surcharge|total_amount|payment_type|trip_type|congestion_surcharge|\n",
      "+--------+--------------------+---------------------+------------------+----------+------------+------------+---------------+-------------+-----------+-----+-------+----------+------------+---------+---------------------+------------+------------+---------+--------------------+\n",
      "|    null| 2020-01-25 07:30:00|  2020-01-25 07:49:00|              null|      null|          35|          93|           null|         9.84|      33.09| 2.75|    0.0|       0.0|         0.0|     null|                  0.3|       36.14|        null|     null|                null|\n",
      "|       1| 2020-01-31 08:27:10|  2020-01-31 08:47:19|                 N|         1|         218|         130|              1|          0.0|       14.2|  0.0|    0.5|       0.0|         0.0|     null|                  0.3|        15.0|           1|        1|                 0.0|\n",
      "|       2| 2020-01-19 09:45:00|  2020-01-19 09:50:54|                 N|         1|          74|          75|              1|         1.47|        6.5|  0.0|    0.5|      1.46|         0.0|     null|                  0.3|        8.76|           1|        1|                 0.0|\n",
      "|       1| 2020-01-11 02:49:37|  2020-01-11 02:54:12|                 N|         5|         243|         119|              1|          1.2|        0.0|  0.0|    0.0|       0.0|         0.0|     null|                  0.0|         0.0|           4|        2|                 0.0|\n",
      "|    null| 2020-01-28 10:19:00|  2020-01-28 11:07:00|              null|      null|         141|          91|           null|        15.58|      34.47| 2.75|    0.5|       0.0|        6.12|     null|                  0.3|       44.14|        null|     null|                null|\n",
      "|       2| 2020-01-31 18:00:49|  2020-01-31 18:18:18|                 N|         1|          82|          82|              1|         1.36|       11.5|  1.0|    0.5|       0.0|         0.0|     null|                  0.3|        13.3|           2|        1|                 0.0|\n",
      "|       2| 2020-01-11 15:28:24|  2020-01-11 15:39:12|                 N|         1|          74|         236|              1|         1.99|        9.0|  0.0|    0.5|      1.88|         0.0|     null|                  0.3|       14.43|           1|        1|                2.75|\n",
      "|       2| 2020-01-07 19:21:50|  2020-01-07 19:27:53|                 N|         1|          97|          97|              1|         0.96|        6.0|  1.0|    0.5|       0.0|         0.0|     null|                  0.3|         7.8|           1|        1|                 0.0|\n",
      "|       2| 2020-01-09 15:20:15|  2020-01-09 15:31:18|                 N|         1|          56|          82|              1|         1.22|        8.5|  0.0|    0.5|       0.0|         0.0|     null|                  0.3|         9.3|           2|        1|                 0.0|\n",
      "|       1| 2020-01-07 08:20:20|  2020-01-07 08:28:18|                 N|         1|          74|          75|              1|          0.8|        6.5|  0.0|    0.5|       0.0|         0.0|     null|                  0.3|         7.3|           2|        1|                 0.0|\n",
      "|       2| 2020-01-01 04:52:57|  2020-01-01 05:05:17|                 N|         1|         112|          79|              1|         4.64|       15.5|  0.5|    0.5|       0.0|         0.0|     null|                  0.3|       19.55|           2|        1|                2.75|\n",
      "|       2| 2020-01-18 15:38:01|  2020-01-18 15:47:52|                 N|         1|          52|         228|              1|         2.39|        9.5|  0.0|    0.5|       5.0|         0.0|     null|                  0.3|        15.3|           1|        1|                 0.0|\n",
      "|       2| 2020-01-23 14:03:43|  2020-01-23 14:36:18|                 N|         1|          34|          21|              1|        13.88|       40.0|  0.0|    0.5|       0.0|         0.0|     null|                  0.3|        40.8|           2|        1|                 0.0|\n",
      "|       2| 2020-01-16 15:20:01|  2020-01-16 15:27:55|                 N|         1|          41|          42|              3|         1.47|        7.5|  0.0|    0.5|       0.0|         0.0|     null|                  0.3|         8.3|           2|        1|                 0.0|\n",
      "|       2| 2020-01-02 18:16:51|  2020-01-02 18:21:36|                 N|         1|          24|          24|              6|         0.55|        5.0|  1.0|    0.5|      1.36|         0.0|     null|                  0.3|        8.16|           1|        1|                 0.0|\n",
      "|    null| 2020-01-03 14:10:00|  2020-01-03 14:33:00|              null|      null|         192|         205|           null|         7.84|      22.93|  0.0|    0.0|       0.0|         0.0|     null|                  0.3|       23.23|        null|     null|                null|\n",
      "|       2| 2020-01-06 12:56:04|  2020-01-06 13:09:16|                 N|         1|           7|         264|              5|         1.36|        8.5|  0.0|    0.5|       0.0|         0.0|     null|                  0.3|         9.3|           2|        1|                 0.0|\n",
      "|       2| 2020-01-27 11:22:21|  2020-01-27 11:29:24|                 N|         1|          75|         238|              1|         1.17|        7.0|  0.0|    0.5|       0.0|         0.0|     null|                  0.3|       10.55|           2|        1|                2.75|\n",
      "|       2| 2020-01-30 21:02:03|  2020-01-30 21:22:58|                 N|         1|          74|          75|              1|          1.4|       13.5|  0.5|    0.5|       0.0|         0.0|     null|                  0.3|        14.8|           1|        1|                 0.0|\n",
      "|    null| 2020-01-29 16:32:00|  2020-01-29 17:12:00|              null|      null|          65|          35|           null|         6.14|      20.93| 2.75|    0.0|       0.0|         0.0|     null|                  0.3|       23.98|        null|     null|                null|\n",
      "+--------+--------------------+---------------------+------------------+----------+------------+------------+---------------+-------------+-----------+-----+-------+----------+------------+---------+---------------------+------------+------------+---------+--------------------+\n",
      "only showing top 20 rows\n",
      "\n"
     ]
    }
   ],
   "source": [
    "df_green.show()"
   ]
  },
  {
   "cell_type": "code",
   "execution_count": 10,
   "metadata": {},
   "outputs": [
    {
     "data": {
      "text/plain": [
       "2304517"
      ]
     },
     "execution_count": 10,
     "metadata": {},
     "output_type": "execute_result"
    }
   ],
   "source": [
    "df_green.count()"
   ]
  },
  {
   "cell_type": "code",
   "execution_count": null,
   "metadata": {},
   "outputs": [],
   "source": []
  }
 ],
 "metadata": {
  "kernelspec": {
   "display_name": "data_engineering_camp",
   "language": "python",
   "name": "python3"
  },
  "language_info": {
   "codemirror_mode": {
    "name": "ipython",
    "version": 3
   },
   "file_extension": ".py",
   "mimetype": "text/x-python",
   "name": "python",
   "nbconvert_exporter": "python",
   "pygments_lexer": "ipython3",
   "version": "3.9.16"
  },
  "orig_nbformat": 4,
  "vscode": {
   "interpreter": {
    "hash": "749097b5fbff0d673bb0497b73cd40972c75738d419b32e5f0e531e852e89aab"
   }
  }
 },
 "nbformat": 4,
 "nbformat_minor": 2
}
